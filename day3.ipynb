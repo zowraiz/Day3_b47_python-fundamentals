{
 "cells": [
  {
   "cell_type": "code",
   "execution_count": 1,
   "id": "72f15b8a",
   "metadata": {},
   "outputs": [],
   "source": [
    "firstname='zowraiz'"
   ]
  },
  {
   "cell_type": "code",
   "execution_count": 2,
   "id": "136984b9",
   "metadata": {},
   "outputs": [],
   "source": [
    "lastname='khaver'"
   ]
  },
  {
   "cell_type": "code",
   "execution_count": 3,
   "id": "745c1df1",
   "metadata": {},
   "outputs": [
    {
     "ename": "SyntaxError",
     "evalue": "invalid syntax (<ipython-input-3-fa8f4503c0bc>, line 1)",
     "output_type": "error",
     "traceback": [
      "\u001b[1;36m  File \u001b[1;32m\"<ipython-input-3-fa8f4503c0bc>\"\u001b[1;36m, line \u001b[1;32m1\u001b[0m\n\u001b[1;33m    fullname=f \"{firstname}{lastname}\"\u001b[0m\n\u001b[1;37m               ^\u001b[0m\n\u001b[1;31mSyntaxError\u001b[0m\u001b[1;31m:\u001b[0m invalid syntax\n"
     ]
    }
   ],
   "source": [
    "fullname=f \"{firstname}{lastname}\""
   ]
  },
  {
   "cell_type": "code",
   "execution_count": 4,
   "id": "6c8982c3",
   "metadata": {},
   "outputs": [],
   "source": [
    "fullname= f\"{firstname} {lastname}\""
   ]
  },
  {
   "cell_type": "code",
   "execution_count": 5,
   "id": "7ae62b55",
   "metadata": {},
   "outputs": [
    {
     "name": "stdout",
     "output_type": "stream",
     "text": [
      "Zowraiz Khaver\n"
     ]
    }
   ],
   "source": [
    "print(fullname.title())"
   ]
  },
  {
   "cell_type": "code",
   "execution_count": 6,
   "id": "c94222bc",
   "metadata": {},
   "outputs": [
    {
     "ename": "SyntaxError",
     "evalue": "EOL while scanning string literal (<ipython-input-6-330f78268ec7>, line 1)",
     "output_type": "error",
     "traceback": [
      "\u001b[1;36m  File \u001b[1;32m\"<ipython-input-6-330f78268ec7>\"\u001b[1;36m, line \u001b[1;32m1\u001b[0m\n\u001b[1;33m    print(f\"keep up the good work{fullname.title()})\u001b[0m\n\u001b[1;37m                                                    ^\u001b[0m\n\u001b[1;31mSyntaxError\u001b[0m\u001b[1;31m:\u001b[0m EOL while scanning string literal\n"
     ]
    }
   ],
   "source": [
    "print(f\"keep up the good work{fullname.title()})"
   ]
  },
  {
   "cell_type": "code",
   "execution_count": 7,
   "id": "3dccb3e1",
   "metadata": {},
   "outputs": [
    {
     "name": "stdout",
     "output_type": "stream",
     "text": [
      "keep up the good workZowraiz Khaver\n"
     ]
    }
   ],
   "source": [
    "print(f\"keep up the good work{fullname.title()}\")"
   ]
  },
  {
   "cell_type": "code",
   "execution_count": 8,
   "id": "9f96df6c",
   "metadata": {},
   "outputs": [
    {
     "name": "stdout",
     "output_type": "stream",
     "text": [
      "keep up the good work,Zowraiz\n"
     ]
    }
   ],
   "source": [
    "print(f\"keep up the good work,{firstname.title()}\")"
   ]
  },
  {
   "cell_type": "code",
   "execution_count": 9,
   "id": "6d117f7b",
   "metadata": {},
   "outputs": [
    {
     "name": "stdout",
     "output_type": "stream",
     "text": [
      "favourite_programming _language;pythonjavacc++cobalvlsiembedded\n"
     ]
    }
   ],
   "source": [
    "print(\"favourite_programming _language;pythonjavacc++cobalvlsiembedded\")"
   ]
  },
  {
   "cell_type": "code",
   "execution_count": 10,
   "id": "b7865e8e",
   "metadata": {},
   "outputs": [
    {
     "name": "stdout",
     "output_type": "stream",
     "text": [
      "favourite_progrmming_lanaguage;\n",
      "python\n",
      "java\n",
      "c\n",
      "c++\n",
      "cobal\n",
      "vlsi\n",
      "embedded\n"
     ]
    }
   ],
   "source": [
    "print(\"favourite_progrmming_lanaguage;\\npython\\njava\\nc\\nc++\\ncobal\\nvlsi\\nembedded\")"
   ]
  },
  {
   "cell_type": "code",
   "execution_count": 11,
   "id": "bbf5e422",
   "metadata": {},
   "outputs": [
    {
     "name": "stdout",
     "output_type": "stream",
     "text": [
      "best_batsman,/ntabdevilliers/ntviratkohli/ntrohit sharma\n"
     ]
    }
   ],
   "source": [
    "print(\"best_batsman,/ntabdevilliers/ntviratkohli/ntrohit sharma\")"
   ]
  },
  {
   "cell_type": "code",
   "execution_count": 12,
   "id": "0b93b522",
   "metadata": {},
   "outputs": [
    {
     "name": "stdout",
     "output_type": "stream",
     "text": [
      "best_batsman,\n",
      "\tabde villiers\n",
      "\t kohli\n",
      "\t rohit\n"
     ]
    }
   ],
   "source": [
    "print(\"best_batsman,\\n\\tabde villiers\\n\\t kohli\\n\\t rohit\")"
   ]
  },
  {
   "cell_type": "code",
   "execution_count": 13,
   "id": "4a97e625",
   "metadata": {},
   "outputs": [
    {
     "name": "stdout",
     "output_type": "stream",
     "text": [
      "\n",
      "\tbest batsman,\n",
      "\t abd\n",
      "\t kohli\n",
      "\t rohit\n"
     ]
    }
   ],
   "source": [
    "print(\"\\n\\tbest batsman,\\n\\t abd\\n\\t kohli\\n\\t rohit\")"
   ]
  },
  {
   "cell_type": "code",
   "execution_count": null,
   "id": "e2e2ba52",
   "metadata": {},
   "outputs": [],
   "source": []
  }
 ],
 "metadata": {
  "kernelspec": {
   "display_name": "Python 3",
   "language": "python",
   "name": "python3"
  },
  "language_info": {
   "codemirror_mode": {
    "name": "ipython",
    "version": 3
   },
   "file_extension": ".py",
   "mimetype": "text/x-python",
   "name": "python",
   "nbconvert_exporter": "python",
   "pygments_lexer": "ipython3",
   "version": "3.8.8"
  }
 },
 "nbformat": 4,
 "nbformat_minor": 5
}
